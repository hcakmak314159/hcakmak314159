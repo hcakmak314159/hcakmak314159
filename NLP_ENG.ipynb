{
  "nbformat": 4,
  "nbformat_minor": 0,
  "metadata": {
    "colab": {
      "provenance": [],
      "authorship_tag": "ABX9TyOWd1iletXHmzd53Ka5kL1r",
      "include_colab_link": true
    },
    "kernelspec": {
      "name": "python3",
      "display_name": "Python 3"
    },
    "language_info": {
      "name": "python"
    }
  },
  "cells": [
    {
      "cell_type": "markdown",
      "metadata": {
        "id": "view-in-github",
        "colab_type": "text"
      },
      "source": [
        "<a href=\"https://colab.research.google.com/github/hcakmak314159/hcakmak314159/blob/main/NLP_ENG.ipynb\" target=\"_parent\"><img src=\"https://colab.research.google.com/assets/colab-badge.svg\" alt=\"Open In Colab\"/></a>"
      ]
    },
    {
      "cell_type": "code",
      "execution_count": 1,
      "metadata": {
        "colab": {
          "base_uri": "https://localhost:8080/"
        },
        "id": "695blZu0aKwM",
        "outputId": "dfa70d28-8bbc-484b-8af9-188b5b7a0ef8"
      },
      "outputs": [
        {
          "output_type": "stream",
          "name": "stderr",
          "text": [
            "[nltk_data] Downloading package stopwords to /root/nltk_data...\n",
            "[nltk_data]   Unzipping corpora/stopwords.zip.\n"
          ]
        }
      ],
      "source": [
        "\n",
        "import numpy as np # linear algebra\n",
        "import pandas as pd # data processing\n",
        "import os\n",
        "import tweepy as tw #for accessing Twitter API\n",
        "\n",
        "#For Preprocessing\n",
        "import re    # RegEx for removing non-letter characters\n",
        "import nltk  #natural language processing\n",
        "nltk.download(\"stopwords\")\n",
        "from nltk.corpus import stopwords\n",
        "from nltk.stem.porter import *\n",
        "\n",
        "# For Building the model\n",
        "from sklearn.model_selection import train_test_split\n",
        "import tensorflow as tf\n",
        "import seaborn as sns\n",
        "\n",
        "#For data visualization\n",
        "import matplotlib.pyplot as plt\n",
        "import matplotlib.patches as mpatches"
      ]
    },
    {
      "cell_type": "code",
      "source": [
        "pd.options.plotting.backend = \"plotly\"\n",
        "\n",
        "# Load Tweet dataset\n",
        "df = pd.read_csv('/content/baru.csv', encoding = 'latin1')\n",
        "# Random 500 data from dataset\n",
        "# df = df.sample(500)\n",
        "df = df.rename(columns={'Text': 'clean_text', 'Sentiment':'category'})\n",
        "df['category'] = df['category'].map({-1: -1.0, 1:1.0})\n",
        "# Output first five rows\n",
        "df.head()\n",
        "\n",
        "# Check for missing data\n",
        "df.isnull().sum()\n",
        "\n",
        "# drop missing rows\n",
        "df.dropna(axis=0, inplace=True)\n",
        "\n",
        "# dimensionality of the data\n",
        "print(df.shape)\n",
        "\n",
        "\n",
        "# Map tweet categories\n",
        "df['category'] = df['category'].map({-1.0:'Negative', 1.0:'Positive'})\n",
        "\n",
        "# Output first five rows\n",
        "print(df.head())"
      ],
      "metadata": {
        "colab": {
          "base_uri": "https://localhost:8080/"
        },
        "id": "3isahND1aNet",
        "outputId": "cab857a0-d54d-4068-d194-e2f1687008e9"
      },
      "execution_count": 3,
      "outputs": [
        {
          "output_type": "stream",
          "name": "stdout",
          "text": [
            "(5791, 2)\n",
            "                                          clean_text  category\n",
            "0  Kickers on my watchlist XIDE TIT SOQ PNK CPW B...  Positive\n",
            "1  user: AAP MOVIE. 55% return for the FEA/GEED i...  Positive\n",
            "2  user I'd be afraid to short AMZN - they are lo...  Positive\n",
            "3                                  MNTA Over 12.00    Positive\n",
            "4                                   OI  Over 21.37    Positive\n"
          ]
        }
      ]
    },
    {
      "cell_type": "code",
      "source": [
        "def tweet_to_words(tweet):\n",
        "    ''' Convert tweet text into a sequence of words '''\n",
        "    \n",
        "    # convert to lowercase\n",
        "    text = tweet.lower()\n",
        "    # remove non letters\n",
        "    text = re.sub(r\"[^a-zA-Z0-9]\", \" \", text)\n",
        "    # tokenize\n",
        "    words = text.split()\n",
        "    # remove stopwords\n",
        "    words = [w for w in words if w not in stopwords.words(\"english\")]\n",
        "    # apply stemming\n",
        "    words = [PorterStemmer().stem(w) for w in words]\n",
        "    # return list\n",
        "    return words\n",
        "\n",
        "\n",
        "\n",
        "# Apply data processing to each tweet\n",
        "X = list(map(tweet_to_words, df['clean_text']))"
      ],
      "metadata": {
        "id": "7doZSrLAabUb"
      },
      "execution_count": 4,
      "outputs": []
    },
    {
      "cell_type": "code",
      "source": [
        "from keras.preprocessing.text import Tokenizer\n",
        "from keras_preprocessing.sequence import pad_sequences\n",
        "\n",
        "max_words = 5000\n",
        "max_len=50\n",
        "\n",
        "def tokenize_pad_sequences(text):\n",
        "    '''\n",
        "    This function tokenize the input text into sequnences of intergers and then\n",
        "    pad each sequence to the same length\n",
        "    '''\n",
        "    # Text tokenization\n",
        "    tokenizer = Tokenizer(num_words=max_words, lower=True, split=' ')\n",
        "    tokenizer.fit_on_texts(text)\n",
        "    # Transforms text to a sequence of integers\n",
        "    X = tokenizer.texts_to_sequences(text)\n",
        "    # Pad sequences to the same length\n",
        "    X = pad_sequences(X, padding='post', maxlen=max_len)\n",
        "    # return sequences\n",
        "    return X, tokenizer\n",
        "\n",
        "print('Before Tokenization & Padding \\n', df['clean_text'][0])\n",
        "X, tokenizer = tokenize_pad_sequences(df['clean_text'])\n",
        "print('After Tokenization & Padding \\n', X[0])"
      ],
      "metadata": {
        "colab": {
          "base_uri": "https://localhost:8080/"
        },
        "id": "QMsCHYmzanPD",
        "outputId": "91fbd451-dd8d-4233-abad-cedbc568eddb"
      },
      "execution_count": 11,
      "outputs": [
        {
          "output_type": "stream",
          "name": "stdout",
          "text": [
            "Before Tokenization & Padding \n",
            " Kickers on my watchlist XIDE TIT SOQ PNK CPW BPZ AJ  trade method 1 or method 2, see prev posts\n",
            "After Tokenization & Padding \n",
            " [4586    4   45  441 3241 4587 4588 4589 3242 4590 1452   86 3243   24\n",
            "   84 3243   29   76 2142 2554    0    0    0    0    0    0    0    0\n",
            "    0    0    0    0    0    0    0    0    0    0    0    0    0    0\n",
            "    0    0    0    0    0    0    0    0]\n"
          ]
        }
      ]
    },
    {
      "cell_type": "code",
      "source": [
        "pip install Keras-Preprocessing"
      ],
      "metadata": {
        "colab": {
          "base_uri": "https://localhost:8080/"
        },
        "id": "NY7J_0CCbBnl",
        "outputId": "a3df338d-5a29-4320-b526-f2cbd4c00e6b"
      },
      "execution_count": 10,
      "outputs": [
        {
          "output_type": "stream",
          "name": "stdout",
          "text": [
            "Looking in indexes: https://pypi.org/simple, https://us-python.pkg.dev/colab-wheels/public/simple/\n",
            "Collecting Keras-Preprocessing\n",
            "  Downloading Keras_Preprocessing-1.1.2-py2.py3-none-any.whl (42 kB)\n",
            "\u001b[2K     \u001b[90m━━━━━━━━━━━━━━━━━━━━━━━━━━━━━━━━━━━━━━━━\u001b[0m \u001b[32m42.6/42.6 KB\u001b[0m \u001b[31m2.2 MB/s\u001b[0m eta \u001b[36m0:00:00\u001b[0m\n",
            "\u001b[?25hRequirement already satisfied: six>=1.9.0 in /usr/local/lib/python3.9/dist-packages (from Keras-Preprocessing) (1.16.0)\n",
            "Requirement already satisfied: numpy>=1.9.1 in /usr/local/lib/python3.9/dist-packages (from Keras-Preprocessing) (1.22.4)\n",
            "Installing collected packages: Keras-Preprocessing\n",
            "Successfully installed Keras-Preprocessing-1.1.2\n"
          ]
        }
      ]
    },
    {
      "cell_type": "markdown",
      "source": [],
      "metadata": {
        "id": "7hntj_GFa_96"
      }
    },
    {
      "cell_type": "code",
      "source": [
        "import pickle\n",
        "\n",
        "# saving\n",
        "with open('tokenizer.pickle', 'wb') as handle:\n",
        "    pickle.dump(tokenizer, handle, protocol=pickle.HIGHEST_PROTOCOL)\n",
        "\n",
        "# loading\n",
        "with open('tokenizer.pickle', 'rb') as handle:\n",
        "    tokenizer = pickle.load(handle)"
      ],
      "metadata": {
        "id": "6TTpw_vxa5qa"
      },
      "execution_count": 12,
      "outputs": []
    },
    {
      "cell_type": "code",
      "source": [
        "y = pd.get_dummies(df['category'])\n",
        "X_train, X_test, y_train, y_test = train_test_split(X, y, test_size=0.2, random_state=1)\n",
        "X_train, X_val, y_train, y_val = train_test_split(X_train, y_train, test_size=0.25, random_state=1)\n",
        "print('Train Set ->', X_train.shape, y_train.shape)\n",
        "print('Validation Set ->', X_val.shape, y_val.shape)\n",
        "print('Test Set ->', X_test.shape, y_test.shape)"
      ],
      "metadata": {
        "colab": {
          "base_uri": "https://localhost:8080/"
        },
        "id": "9EI5lNQYbr_Q",
        "outputId": "af488b55-bdd0-4e32-83f4-f768ef490afb"
      },
      "execution_count": 13,
      "outputs": [
        {
          "output_type": "stream",
          "name": "stdout",
          "text": [
            "Train Set -> (3474, 50) (3474, 2)\n",
            "Validation Set -> (1158, 50) (1158, 2)\n",
            "Test Set -> (1159, 50) (1159, 2)\n"
          ]
        }
      ]
    },
    {
      "cell_type": "code",
      "source": [
        "import keras.backend as K\n",
        "\n",
        "def f1_score(precision, recall):\n",
        "    ''' Function to calculate f1 score '''\n",
        "    \n",
        "    f1_val = 2*(precision*recall)/(precision+recall+K.epsilon())\n",
        "    return f1_val"
      ],
      "metadata": {
        "id": "sy54YzUTbvt2"
      },
      "execution_count": 14,
      "outputs": []
    },
    {
      "cell_type": "code",
      "source": [
        "from keras.models import Sequential\n",
        "from keras.layers import Embedding, Conv1D, MaxPooling1D, Bidirectional, LSTM, Dense, Dropout\n",
        "from keras.metrics import Precision, Recall\n",
        "from tensorflow.keras.optimizers import RMSprop\n",
        "from keras import datasets\n",
        "\n",
        "from keras.callbacks import LearningRateScheduler\n",
        "from keras.callbacks import History\n",
        "\n",
        "from keras import losses\n",
        "\n",
        "vocab_size = 5000\n",
        "embedding_size = 32\n",
        "epochs=20\n",
        "learning_rate = 0.1\n",
        "decay_rate = learning_rate / epochs\n",
        "momentum = 0.8\n",
        "\n",
        "sgd = tf.keras.optimizers.legacy.SGD(learning_rate=learning_rate, momentum=momentum, decay=decay_rate, nesterov=False)\n",
        "\n",
        "# Build model\n",
        "model= Sequential()\n",
        "model.add(Embedding(vocab_size, embedding_size, input_length=max_len))\n",
        "model.add(Conv1D(filters=32, kernel_size=3, padding='same', activation='relu'))\n",
        "model.add(MaxPooling1D(pool_size=2))\n",
        "model.add(Bidirectional(LSTM(32)))\n",
        "model.add(Dropout(0.4))\n",
        "model.add(Dense(2, activation='softmax'))"
      ],
      "metadata": {
        "id": "nNUogduObyVb"
      },
      "execution_count": 21,
      "outputs": []
    },
    {
      "cell_type": "code",
      "source": [
        "pip install --user --upgrade tensorflow-model-optimization"
      ],
      "metadata": {
        "colab": {
          "base_uri": "https://localhost:8080/"
        },
        "id": "CkKyWVh4b1Un",
        "outputId": "9ce0f95c-3270-4be4-d0ff-78b5d39c4428"
      },
      "execution_count": 18,
      "outputs": [
        {
          "output_type": "stream",
          "name": "stdout",
          "text": [
            "Looking in indexes: https://pypi.org/simple, https://us-python.pkg.dev/colab-wheels/public/simple/\n",
            "Collecting tensorflow-model-optimization\n",
            "  Downloading tensorflow_model_optimization-0.7.3-py2.py3-none-any.whl (238 kB)\n",
            "\u001b[2K     \u001b[90m━━━━━━━━━━━━━━━━━━━━━━━━━━━━━━━━━━━━━━━\u001b[0m \u001b[32m238.9/238.9 KB\u001b[0m \u001b[31m5.2 MB/s\u001b[0m eta \u001b[36m0:00:00\u001b[0m\n",
            "\u001b[?25hRequirement already satisfied: numpy~=1.14 in /usr/local/lib/python3.9/dist-packages (from tensorflow-model-optimization) (1.22.4)\n",
            "Requirement already satisfied: six~=1.10 in /usr/local/lib/python3.9/dist-packages (from tensorflow-model-optimization) (1.16.0)\n",
            "Requirement already satisfied: dm-tree~=0.1.1 in /usr/local/lib/python3.9/dist-packages (from tensorflow-model-optimization) (0.1.8)\n",
            "Installing collected packages: tensorflow-model-optimization\n",
            "Successfully installed tensorflow-model-optimization-0.7.3\n"
          ]
        }
      ]
    },
    {
      "cell_type": "code",
      "source": [
        "import tensorflow as tf\n",
        "tf.keras.utils.plot_model(model, show_shapes=True)"
      ],
      "metadata": {
        "colab": {
          "base_uri": "https://localhost:8080/",
          "height": 754
        },
        "id": "lBeNwnMXckKP",
        "outputId": "d771943e-781a-43bd-c09c-e8baee93a81c"
      },
      "execution_count": 22,
      "outputs": [
        {
          "output_type": "execute_result",
          "data": {
            "image/png": "[encoded data removed]",
            "text/plain": [
              "<IPython.core.display.Image object>"
            ]
          },
          "metadata": {},
          "execution_count": 22
        }
      ]
    },
    {
      "cell_type": "code",
      "source": [
        "print(model.summary())\n",
        "# Compile model\n",
        "model.compile(loss='categorical_crossentropy', optimizer=sgd, \n",
        "               metrics=['accuracy', Precision(), Recall()])\n",
        "\n",
        "# Train model\n",
        "\n",
        "batch_size = 64\n",
        "history = model.fit(X_train, y_train,\n",
        "                      validation_data=(X_val, y_val),\n",
        "                      batch_size=batch_size, epochs=epochs, verbose=1)"
      ],
      "metadata": {
        "colab": {
          "base_uri": "https://localhost:8080/"
        },
        "id": "6vFnTo_3c-tk",
        "outputId": "8cf96aa8-19d6-4373-ce5d-d1288c3a3788"
      },
      "execution_count": 23,
      "outputs": [
        {
          "output_type": "stream",
          "name": "stdout",
          "text": [
            "Model: \"sequential\"\n",
            "_________________________________________________________________\n",
            " Layer (type)                Output Shape              Param #   \n",
            "=================================================================\n",
            " embedding (Embedding)       (None, 50, 32)            160000    \n",
            "                                                                 \n",
            " conv1d (Conv1D)             (None, 50, 32)            3104      \n",
            "                                                                 \n",
            " max_pooling1d (MaxPooling1D  (None, 25, 32)           0         \n",
            " )                                                               \n",
            "                                                                 \n",
            " bidirectional (Bidirectiona  (None, 64)               16640     \n",
            " l)                                                              \n",
            "                                                                 \n",
            " dropout (Dropout)           (None, 64)                0         \n",
            "                                                                 \n",
            " dense (Dense)               (None, 2)                 130       \n",
            "                                                                 \n",
            "=================================================================\n",
            "Total params: 179,874\n",
            "Trainable params: 179,874\n",
            "Non-trainable params: 0\n",
            "_________________________________________________________________\n",
            "None\n",
            "Epoch 1/20\n",
            "55/55 [==============================] - 10s 65ms/step - loss: 0.6609 - accuracy: 0.6362 - precision: 0.6362 - recall: 0.6362 - val_loss: 0.6621 - val_accuracy: 0.6244 - val_precision: 0.6244 - val_recall: 0.6244\n",
            "Epoch 2/20\n",
            "55/55 [==============================] - 2s 43ms/step - loss: 0.6576 - accuracy: 0.6362 - precision: 0.6362 - recall: 0.6362 - val_loss: 0.6620 - val_accuracy: 0.6244 - val_precision: 0.6244 - val_recall: 0.6244\n",
            "Epoch 3/20\n",
            "55/55 [==============================] - 2s 40ms/step - loss: 0.6565 - accuracy: 0.6362 - precision: 0.6362 - recall: 0.6362 - val_loss: 0.6614 - val_accuracy: 0.6244 - val_precision: 0.6244 - val_recall: 0.6244\n",
            "Epoch 4/20\n",
            "55/55 [==============================] - 2s 40ms/step - loss: 0.6573 - accuracy: 0.6362 - precision: 0.6362 - recall: 0.6362 - val_loss: 0.6614 - val_accuracy: 0.6244 - val_precision: 0.6244 - val_recall: 0.6244\n",
            "Epoch 5/20\n",
            "55/55 [==============================] - 4s 65ms/step - loss: 0.6553 - accuracy: 0.6362 - precision: 0.6362 - recall: 0.6362 - val_loss: 0.6604 - val_accuracy: 0.6244 - val_precision: 0.6244 - val_recall: 0.6244\n",
            "Epoch 6/20\n",
            "55/55 [==============================] - 2s 44ms/step - loss: 0.6540 - accuracy: 0.6362 - precision: 0.6362 - recall: 0.6362 - val_loss: 0.6604 - val_accuracy: 0.6244 - val_precision: 0.6244 - val_recall: 0.6244\n",
            "Epoch 7/20\n",
            "55/55 [==============================] - 2s 39ms/step - loss: 0.6528 - accuracy: 0.6362 - precision: 0.6362 - recall: 0.6362 - val_loss: 0.6668 - val_accuracy: 0.6244 - val_precision: 0.6244 - val_recall: 0.6244\n",
            "Epoch 8/20\n",
            "55/55 [==============================] - 2s 38ms/step - loss: 0.6509 - accuracy: 0.6362 - precision: 0.6362 - recall: 0.6362 - val_loss: 0.6577 - val_accuracy: 0.6244 - val_precision: 0.6244 - val_recall: 0.6244\n",
            "Epoch 9/20\n",
            "55/55 [==============================] - 2s 43ms/step - loss: 0.6496 - accuracy: 0.6362 - precision: 0.6362 - recall: 0.6362 - val_loss: 0.6557 - val_accuracy: 0.6244 - val_precision: 0.6244 - val_recall: 0.6244\n",
            "Epoch 10/20\n",
            "55/55 [==============================] - 4s 64ms/step - loss: 0.6461 - accuracy: 0.6362 - precision: 0.6362 - recall: 0.6362 - val_loss: 0.6518 - val_accuracy: 0.6244 - val_precision: 0.6244 - val_recall: 0.6244\n",
            "Epoch 11/20\n",
            "55/55 [==============================] - 2s 43ms/step - loss: 0.6410 - accuracy: 0.6367 - precision: 0.6367 - recall: 0.6367 - val_loss: 0.6475 - val_accuracy: 0.6252 - val_precision: 0.6252 - val_recall: 0.6252\n",
            "Epoch 12/20\n",
            "55/55 [==============================] - 2s 43ms/step - loss: 0.6338 - accuracy: 0.6410 - precision: 0.6410 - recall: 0.6410 - val_loss: 0.6422 - val_accuracy: 0.6416 - val_precision: 0.6416 - val_recall: 0.6416\n",
            "Epoch 13/20\n",
            "55/55 [==============================] - 2s 44ms/step - loss: 0.6250 - accuracy: 0.6497 - precision: 0.6497 - recall: 0.6497 - val_loss: 0.6314 - val_accuracy: 0.6399 - val_precision: 0.6399 - val_recall: 0.6399\n",
            "Epoch 14/20\n",
            "55/55 [==============================] - 2s 41ms/step - loss: 0.6086 - accuracy: 0.6598 - precision: 0.6598 - recall: 0.6598 - val_loss: 0.6154 - val_accuracy: 0.6831 - val_precision: 0.6831 - val_recall: 0.6831\n",
            "Epoch 15/20\n",
            "55/55 [==============================] - 3s 55ms/step - loss: 0.5926 - accuracy: 0.6816 - precision: 0.6816 - recall: 0.6816 - val_loss: 0.5967 - val_accuracy: 0.6762 - val_precision: 0.6762 - val_recall: 0.6762\n",
            "Epoch 16/20\n",
            "55/55 [==============================] - 3s 48ms/step - loss: 0.5624 - accuracy: 0.7098 - precision: 0.7098 - recall: 0.7098 - val_loss: 0.5718 - val_accuracy: 0.6891 - val_precision: 0.6891 - val_recall: 0.6891\n",
            "Epoch 17/20\n",
            "55/55 [==============================] - 2s 44ms/step - loss: 0.5259 - accuracy: 0.7369 - precision: 0.7369 - recall: 0.7369 - val_loss: 0.6008 - val_accuracy: 0.6822 - val_precision: 0.6822 - val_recall: 0.6822\n",
            "Epoch 18/20\n",
            "55/55 [==============================] - 2s 41ms/step - loss: 0.5040 - accuracy: 0.7562 - precision: 0.7562 - recall: 0.7562 - val_loss: 0.5379 - val_accuracy: 0.7193 - val_precision: 0.7193 - val_recall: 0.7193\n",
            "Epoch 19/20\n",
            "55/55 [==============================] - 2s 41ms/step - loss: 0.4633 - accuracy: 0.7896 - precision: 0.7896 - recall: 0.7896 - val_loss: 0.5244 - val_accuracy: 0.7513 - val_precision: 0.7513 - val_recall: 0.7513\n",
            "Epoch 20/20\n",
            "55/55 [==============================] - 3s 48ms/step - loss: 0.4336 - accuracy: 0.8014 - precision: 0.8014 - recall: 0.8014 - val_loss: 0.5147 - val_accuracy: 0.7565 - val_precision: 0.7565 - val_recall: 0.7565\n"
          ]
        }
      ]
    },
    {
      "cell_type": "code",
      "source": [
        "# Evaluate model on the test set\n",
        "loss, accuracy, precision, recall = model.evaluate(X_test, y_test, verbose=0)\n",
        "# Print metrics\n",
        "print('')\n",
        "print('Accuracy  : {:.4f}'.format(accuracy))\n",
        "print('Precision : {:.4f}'.format(precision))\n",
        "print('Recall    : {:.4f}'.format(recall))\n",
        "print('F1 Score  : {:.4f}'.format(f1_score(precision, recall)))"
      ],
      "metadata": {
        "colab": {
          "base_uri": "https://localhost:8080/"
        },
        "id": "Wta94LBQdC81",
        "outputId": "b706a403-d7ae-4f8e-c6d4-7fd70ade0e66"
      },
      "execution_count": 24,
      "outputs": [
        {
          "output_type": "stream",
          "name": "stdout",
          "text": [
            "\n",
            "Accuracy  : 0.7688\n",
            "Precision : 0.7688\n",
            "Recall    : 0.7688\n",
            "F1 Score  : 0.7688\n"
          ]
        }
      ]
    },
    {
      "cell_type": "code",
      "source": [
        "# Save the model architecture & the weights\n",
        "model.save('best_model.h5')\n",
        "print('Best model saved')"
      ],
      "metadata": {
        "colab": {
          "base_uri": "https://localhost:8080/"
        },
        "id": "CxeRn4KAdbVb",
        "outputId": "5d843594-2c69-4c7b-87be-10db7d95cdbc"
      },
      "execution_count": 25,
      "outputs": [
        {
          "output_type": "stream",
          "name": "stdout",
          "text": [
            "Best model saved\n"
          ]
        }
      ]
    },
    {
      "cell_type": "code",
      "source": [
        "from keras.models import load_model\n",
        "\n",
        "# Load model\n",
        "model = load_model('best_model.h5')\n",
        "\n",
        "def predict_class(text):\n",
        "    '''Function to predict sentiment class of the passed text'''\n",
        "    \n",
        "    sentiment_classes = ['Negative', 'Positive']\n",
        "    max_len=50\n",
        "    \n",
        "    # Transforms text to a sequence of integers using a tokenizer object\n",
        "    xt = tokenizer.texts_to_sequences(text)\n",
        "    # Pad sequences to the same length\n",
        "    xt = pad_sequences(xt, padding='post', maxlen=max_len)\n",
        "    # Do the prediction using the loaded model\n",
        "    yt = model.predict(xt).argmax(axis=1)\n",
        "    # Print the predicted sentiment\n",
        "    print('The predicted sentiment is', sentiment_classes[yt[0]])"
      ],
      "metadata": {
        "id": "tCR9HWhrdjA5"
      },
      "execution_count": 26,
      "outputs": []
    },
    {
      "cell_type": "code",
      "source": [
        "predict_class(['The stock is going bullish'])"
      ],
      "metadata": {
        "colab": {
          "base_uri": "https://localhost:8080/"
        },
        "id": "2FJbY67KeTza",
        "outputId": "12c0b24d-4874-420c-89a2-1e38a3385ead"
      },
      "execution_count": 27,
      "outputs": [
        {
          "output_type": "stream",
          "name": "stdout",
          "text": [
            "1/1 [==============================] - 2s 2s/step\n",
            "The predicted sentiment is Positive\n"
          ]
        }
      ]
    },
    {
      "cell_type": "code",
      "source": [
        "predict_class(['AAP is going to be bearish'])"
      ],
      "metadata": {
        "colab": {
          "base_uri": "https://localhost:8080/"
        },
        "id": "w8OiFLQceYKR",
        "outputId": "eda41382-3eb3-4603-b3d2-fd072c511183"
      },
      "execution_count": 28,
      "outputs": [
        {
          "output_type": "stream",
          "name": "stdout",
          "text": [
            "1/1 [==============================] - 0s 102ms/step\n",
            "The predicted sentiment is Negative\n"
          ]
        }
      ]
    },
    {
      "cell_type": "code",
      "source": [
        "predict_class(['TSLA stocks is sucks!'])"
      ],
      "metadata": {
        "colab": {
          "base_uri": "https://localhost:8080/"
        },
        "id": "M4MYm-drebXp",
        "outputId": "19d237b5-75f0-473f-f702-a63894ddfca3"
      },
      "execution_count": 29,
      "outputs": [
        {
          "output_type": "stream",
          "name": "stdout",
          "text": [
            "1/1 [==============================] - 0s 53ms/step\n",
            "The predicted sentiment is Positive\n"
          ]
        }
      ]
    },
    {
      "cell_type": "code",
      "source": [
        "predict_class(['TSLA stock will be down'])"
      ],
      "metadata": {
        "colab": {
          "base_uri": "https://localhost:8080/"
        },
        "id": "v720xL8KfPj2",
        "outputId": "1dfea53d-156c-46be-eb33-540ab0d7f3f8"
      },
      "execution_count": 30,
      "outputs": [
        {
          "output_type": "stream",
          "name": "stdout",
          "text": [
            "1/1 [==============================] - 0s 44ms/step\n",
            "The predicted sentiment is Negative\n"
          ]
        }
      ]
    },
    {
      "cell_type": "code",
      "source": [],
      "metadata": {
        "id": "zMGBjKRdfWSI"
      },
      "execution_count": null,
      "outputs": []
    }
  ]
}